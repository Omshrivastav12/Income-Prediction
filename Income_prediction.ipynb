{
 "cells": [
  {
   "cell_type": "code",
   "execution_count": 1,
   "id": "43c57bd2-37aa-4fa8-9164-58a2c1b9dd7f",
   "metadata": {},
   "outputs": [],
   "source": [
    "#importing required libraries\n",
    "import pandas as pd\n",
    "import numpy as np\n",
    "import matplotlib.pyplot as plt\n",
    "import seaborn as sns\n",
    "import sklearn\n",
    "from sklearn.compose import ColumnTransformer\n",
    "from sklearn.preprocessing import OneHotEncoder, OrdinalEncoder,LabelEncoder\n",
    "from sklearn.preprocessing import StandardScaler\n",
    "from sklearn.model_selection import train_test_split\n",
    "from sklearn.ensemble import RandomForestClassifier\n",
    "from sklearn.metrics import accuracy_score, classification_report"
   ]
  },
  {
   "cell_type": "code",
   "execution_count": 2,
   "id": "dd4a1e64-d655-46ca-982a-cbc72df6885b",
   "metadata": {},
   "outputs": [],
   "source": [
    "df_train=pd.read_csv(\"Train.csv\") #training_data"
   ]
  },
  {
   "cell_type": "code",
   "execution_count": 3,
   "id": "8c1d82f5-8869-43c8-aec1-2b692d78eaa8",
   "metadata": {},
   "outputs": [],
   "source": [
    "df_test=pd.read_csv(\"Test.csv\") #Testing data"
   ]
  },
  {
   "cell_type": "code",
   "execution_count": 4,
   "id": "7958d48f-f99f-49d3-b7d4-94937877800f",
   "metadata": {},
   "outputs": [
    {
     "name": "stdout",
     "output_type": "stream",
     "text": [
      "<class 'pandas.core.frame.DataFrame'>\n",
      "RangeIndex: 209499 entries, 0 to 209498\n",
      "Data columns (total 43 columns):\n",
      " #   Column                          Non-Null Count   Dtype  \n",
      "---  ------                          --------------   -----  \n",
      " 0   ID                              209499 non-null  object \n",
      " 1   age                             209499 non-null  int64  \n",
      " 2   gender                          209499 non-null  object \n",
      " 3   education                       209499 non-null  object \n",
      " 4   class                           104254 non-null  object \n",
      " 5   education_institute             13302 non-null   object \n",
      " 6   marital_status                  209499 non-null  object \n",
      " 7   race                            209499 non-null  object \n",
      " 8   is_hispanic                     209499 non-null  object \n",
      " 9   employment_commitment           209499 non-null  object \n",
      " 10  unemployment_reason             6520 non-null    object \n",
      " 11  employment_stat                 209499 non-null  int64  \n",
      " 12  wage_per_hour                   209499 non-null  int64  \n",
      " 13  is_labor_union                  20079 non-null   object \n",
      " 14  working_week_per_year           209499 non-null  int64  \n",
      " 15  industry_code                   209499 non-null  int64  \n",
      " 16  industry_code_main              209499 non-null  object \n",
      " 17  occupation_code                 209499 non-null  int64  \n",
      " 18  occupation_code_main            103805 non-null  object \n",
      " 19  total_employed                  209499 non-null  int64  \n",
      " 20  household_stat                  209499 non-null  object \n",
      " 21  household_summary               209499 non-null  object \n",
      " 22  under_18_family                 57845 non-null   object \n",
      " 23  veterans_admin_questionnaire    2084 non-null    object \n",
      " 24  vet_benefit                     209499 non-null  int64  \n",
      " 25  tax_status                      209499 non-null  object \n",
      " 26  gains                           209499 non-null  int64  \n",
      " 27  losses                          209499 non-null  int64  \n",
      " 28  stocks_status                   209499 non-null  int64  \n",
      " 29  citizenship                     209499 non-null  object \n",
      " 30  mig_year                        209499 non-null  int64  \n",
      " 31  country_of_birth_own            209499 non-null  object \n",
      " 32  country_of_birth_father         209499 non-null  object \n",
      " 33  country_of_birth_mother         209499 non-null  object \n",
      " 34  migration_code_change_in_msa    207911 non-null  object \n",
      " 35  migration_prev_sunbelt          121047 non-null  object \n",
      " 36  migration_code_move_within_reg  207911 non-null  object \n",
      " 37  migration_code_change_in_reg    207911 non-null  object \n",
      " 38  residence_1_year_ago            103215 non-null  object \n",
      " 39  old_residence_reg               16351 non-null   object \n",
      " 40  old_residence_state             16351 non-null   object \n",
      " 41  importance_of_record            209499 non-null  float64\n",
      " 42  income_above_limit              209499 non-null  object \n",
      "dtypes: float64(1), int64(12), object(30)\n",
      "memory usage: 68.7+ MB\n"
     ]
    }
   ],
   "source": [
    "df_train.info()"
   ]
  },
  {
   "cell_type": "raw",
   "id": "ba2b148b-270e-40de-b9ae-1e5d7d3d768e",
   "metadata": {},
   "source": [
    "Splitting data into training and testing sets"
   ]
  },
  {
   "cell_type": "code",
   "execution_count": 5,
   "id": "40d2c943-3f60-44f8-bd40-34c640d5dbd4",
   "metadata": {},
   "outputs": [],
   "source": [
    "X_train=df_train.iloc[:,:-2]\n",
    "Y_train=df_train.iloc[:,-1]\n",
    "X_test=df_test"
   ]
  },
  {
   "cell_type": "code",
   "execution_count": 6,
   "id": "cdb0076e-387c-4d62-a09c-bf8631f41ea9",
   "metadata": {},
   "outputs": [],
   "source": [
    "le=LabelEncoder()"
   ]
  },
  {
   "cell_type": "code",
   "execution_count": 7,
   "id": "a1fdf8bd-500c-42c8-94a8-5812067a69b2",
   "metadata": {},
   "outputs": [
    {
     "data": {
      "text/plain": [
       "0    Below limit\n",
       "1    Below limit\n",
       "Name: income_above_limit, dtype: object"
      ]
     },
     "execution_count": 7,
     "metadata": {},
     "output_type": "execute_result"
    }
   ],
   "source": [
    "df_train['income_above_limit'].head(2)"
   ]
  },
  {
   "cell_type": "code",
   "execution_count": 8,
   "id": "527bccd4-c982-43a1-81d9-7f22a16c45d4",
   "metadata": {},
   "outputs": [],
   "source": [
    "# Using map function\n",
    "df_train['income_above_limit'] = df_train['income_above_limit'].map({'Above limit': 1, 'Below limit': 0}) #labeling our target columns"
   ]
  },
  {
   "cell_type": "code",
   "execution_count": 9,
   "id": "35585d85-8dc6-4dd3-a2b0-7b20cb4e1510",
   "metadata": {},
   "outputs": [
    {
     "data": {
      "text/plain": [
       "0    0\n",
       "1    0\n",
       "Name: income_above_limit, dtype: int64"
      ]
     },
     "execution_count": 9,
     "metadata": {},
     "output_type": "execute_result"
    }
   ],
   "source": [
    "df_train['income_above_limit'].head(2)"
   ]
  },
  {
   "cell_type": "code",
   "execution_count": 10,
   "id": "59ed41b5-3edb-4e73-83be-365a8497aabe",
   "metadata": {},
   "outputs": [
    {
     "data": {
      "text/html": [
       "<div>\n",
       "<style scoped>\n",
       "    .dataframe tbody tr th:only-of-type {\n",
       "        vertical-align: middle;\n",
       "    }\n",
       "\n",
       "    .dataframe tbody tr th {\n",
       "        vertical-align: top;\n",
       "    }\n",
       "\n",
       "    .dataframe thead th {\n",
       "        text-align: right;\n",
       "    }\n",
       "</style>\n",
       "<table border=\"1\" class=\"dataframe\">\n",
       "  <thead>\n",
       "    <tr style=\"text-align: right;\">\n",
       "      <th></th>\n",
       "      <th>%_missing_val</th>\n",
       "    </tr>\n",
       "  </thead>\n",
       "  <tbody>\n",
       "    <tr>\n",
       "      <th>ID</th>\n",
       "      <td>0.000000</td>\n",
       "    </tr>\n",
       "    <tr>\n",
       "      <th>age</th>\n",
       "      <td>0.000000</td>\n",
       "    </tr>\n",
       "    <tr>\n",
       "      <th>gender</th>\n",
       "      <td>0.000000</td>\n",
       "    </tr>\n",
       "    <tr>\n",
       "      <th>education</th>\n",
       "      <td>0.000000</td>\n",
       "    </tr>\n",
       "    <tr>\n",
       "      <th>class</th>\n",
       "      <td>50.236517</td>\n",
       "    </tr>\n",
       "    <tr>\n",
       "      <th>education_institute</th>\n",
       "      <td>93.650566</td>\n",
       "    </tr>\n",
       "    <tr>\n",
       "      <th>marital_status</th>\n",
       "      <td>0.000000</td>\n",
       "    </tr>\n",
       "    <tr>\n",
       "      <th>race</th>\n",
       "      <td>0.000000</td>\n",
       "    </tr>\n",
       "    <tr>\n",
       "      <th>is_hispanic</th>\n",
       "      <td>0.000000</td>\n",
       "    </tr>\n",
       "    <tr>\n",
       "      <th>employment_commitment</th>\n",
       "      <td>0.000000</td>\n",
       "    </tr>\n",
       "    <tr>\n",
       "      <th>unemployment_reason</th>\n",
       "      <td>96.887813</td>\n",
       "    </tr>\n",
       "    <tr>\n",
       "      <th>employment_stat</th>\n",
       "      <td>0.000000</td>\n",
       "    </tr>\n",
       "    <tr>\n",
       "      <th>wage_per_hour</th>\n",
       "      <td>0.000000</td>\n",
       "    </tr>\n",
       "    <tr>\n",
       "      <th>is_labor_union</th>\n",
       "      <td>90.415706</td>\n",
       "    </tr>\n",
       "    <tr>\n",
       "      <th>working_week_per_year</th>\n",
       "      <td>0.000000</td>\n",
       "    </tr>\n",
       "    <tr>\n",
       "      <th>industry_code</th>\n",
       "      <td>0.000000</td>\n",
       "    </tr>\n",
       "    <tr>\n",
       "      <th>industry_code_main</th>\n",
       "      <td>0.000000</td>\n",
       "    </tr>\n",
       "    <tr>\n",
       "      <th>occupation_code</th>\n",
       "      <td>0.000000</td>\n",
       "    </tr>\n",
       "    <tr>\n",
       "      <th>occupation_code_main</th>\n",
       "      <td>50.450837</td>\n",
       "    </tr>\n",
       "    <tr>\n",
       "      <th>total_employed</th>\n",
       "      <td>0.000000</td>\n",
       "    </tr>\n",
       "    <tr>\n",
       "      <th>household_stat</th>\n",
       "      <td>0.000000</td>\n",
       "    </tr>\n",
       "    <tr>\n",
       "      <th>household_summary</th>\n",
       "      <td>0.000000</td>\n",
       "    </tr>\n",
       "    <tr>\n",
       "      <th>under_18_family</th>\n",
       "      <td>72.388890</td>\n",
       "    </tr>\n",
       "    <tr>\n",
       "      <th>veterans_admin_questionnaire</th>\n",
       "      <td>99.005246</td>\n",
       "    </tr>\n",
       "    <tr>\n",
       "      <th>vet_benefit</th>\n",
       "      <td>0.000000</td>\n",
       "    </tr>\n",
       "    <tr>\n",
       "      <th>tax_status</th>\n",
       "      <td>0.000000</td>\n",
       "    </tr>\n",
       "    <tr>\n",
       "      <th>gains</th>\n",
       "      <td>0.000000</td>\n",
       "    </tr>\n",
       "    <tr>\n",
       "      <th>losses</th>\n",
       "      <td>0.000000</td>\n",
       "    </tr>\n",
       "    <tr>\n",
       "      <th>stocks_status</th>\n",
       "      <td>0.000000</td>\n",
       "    </tr>\n",
       "    <tr>\n",
       "      <th>citizenship</th>\n",
       "      <td>0.000000</td>\n",
       "    </tr>\n",
       "    <tr>\n",
       "      <th>mig_year</th>\n",
       "      <td>0.000000</td>\n",
       "    </tr>\n",
       "    <tr>\n",
       "      <th>country_of_birth_own</th>\n",
       "      <td>0.000000</td>\n",
       "    </tr>\n",
       "    <tr>\n",
       "      <th>country_of_birth_father</th>\n",
       "      <td>0.000000</td>\n",
       "    </tr>\n",
       "    <tr>\n",
       "      <th>country_of_birth_mother</th>\n",
       "      <td>0.000000</td>\n",
       "    </tr>\n",
       "    <tr>\n",
       "      <th>migration_code_change_in_msa</th>\n",
       "      <td>0.757999</td>\n",
       "    </tr>\n",
       "    <tr>\n",
       "      <th>migration_prev_sunbelt</th>\n",
       "      <td>42.220727</td>\n",
       "    </tr>\n",
       "    <tr>\n",
       "      <th>migration_code_move_within_reg</th>\n",
       "      <td>0.757999</td>\n",
       "    </tr>\n",
       "    <tr>\n",
       "      <th>migration_code_change_in_reg</th>\n",
       "      <td>0.757999</td>\n",
       "    </tr>\n",
       "    <tr>\n",
       "      <th>residence_1_year_ago</th>\n",
       "      <td>50.732462</td>\n",
       "    </tr>\n",
       "    <tr>\n",
       "      <th>old_residence_reg</th>\n",
       "      <td>92.195189</td>\n",
       "    </tr>\n",
       "    <tr>\n",
       "      <th>old_residence_state</th>\n",
       "      <td>92.195189</td>\n",
       "    </tr>\n",
       "    <tr>\n",
       "      <th>importance_of_record</th>\n",
       "      <td>0.000000</td>\n",
       "    </tr>\n",
       "    <tr>\n",
       "      <th>income_above_limit</th>\n",
       "      <td>0.000000</td>\n",
       "    </tr>\n",
       "  </tbody>\n",
       "</table>\n",
       "</div>"
      ],
      "text/plain": [
       "                                %_missing_val\n",
       "ID                                   0.000000\n",
       "age                                  0.000000\n",
       "gender                               0.000000\n",
       "education                            0.000000\n",
       "class                               50.236517\n",
       "education_institute                 93.650566\n",
       "marital_status                       0.000000\n",
       "race                                 0.000000\n",
       "is_hispanic                          0.000000\n",
       "employment_commitment                0.000000\n",
       "unemployment_reason                 96.887813\n",
       "employment_stat                      0.000000\n",
       "wage_per_hour                        0.000000\n",
       "is_labor_union                      90.415706\n",
       "working_week_per_year                0.000000\n",
       "industry_code                        0.000000\n",
       "industry_code_main                   0.000000\n",
       "occupation_code                      0.000000\n",
       "occupation_code_main                50.450837\n",
       "total_employed                       0.000000\n",
       "household_stat                       0.000000\n",
       "household_summary                    0.000000\n",
       "under_18_family                     72.388890\n",
       "veterans_admin_questionnaire        99.005246\n",
       "vet_benefit                          0.000000\n",
       "tax_status                           0.000000\n",
       "gains                                0.000000\n",
       "losses                               0.000000\n",
       "stocks_status                        0.000000\n",
       "citizenship                          0.000000\n",
       "mig_year                             0.000000\n",
       "country_of_birth_own                 0.000000\n",
       "country_of_birth_father              0.000000\n",
       "country_of_birth_mother              0.000000\n",
       "migration_code_change_in_msa         0.757999\n",
       "migration_prev_sunbelt              42.220727\n",
       "migration_code_move_within_reg       0.757999\n",
       "migration_code_change_in_reg         0.757999\n",
       "residence_1_year_ago                50.732462\n",
       "old_residence_reg                   92.195189\n",
       "old_residence_state                 92.195189\n",
       "importance_of_record                 0.000000\n",
       "income_above_limit                   0.000000"
      ]
     },
     "execution_count": 10,
     "metadata": {},
     "output_type": "execute_result"
    }
   ],
   "source": [
    "_missing_val=pd.DataFrame(df_train.isnull().sum()/df_train.shape[0]*100)\n",
    "_missing_val=_missing_val.rename(columns={0: '%_missing_val'})\n",
    "_missing_val"
   ]
  },
  {
   "cell_type": "code",
   "execution_count": 11,
   "id": "08b16e38-3043-4405-8221-86d65079d4bb",
   "metadata": {},
   "outputs": [
    {
     "name": "stderr",
     "output_type": "stream",
     "text": [
      "C:\\Users\\omshr\\AppData\\Local\\Temp\\ipykernel_40256\\1217463086.py:6: SettingWithCopyWarning: \n",
      "A value is trying to be set on a copy of a slice from a DataFrame\n",
      "\n",
      "See the caveats in the documentation: https://pandas.pydata.org/pandas-docs/stable/user_guide/indexing.html#returning-a-view-versus-a-copy\n",
      "  df_train['Class_imputed'][df_train['Class_imputed'].isnull()] = df_train['class'].dropna().sample(df_train['class'].isnull().sum(),replace=True).values\n"
     ]
    }
   ],
   "source": [
    "#handeling missing values\n",
    "original_class=pd.DataFrame(df_train[\"class\"].value_counts()/df_train.shape[0])\n",
    "\n",
    "df_train['Class_imputed']=df_train['class']\n",
    "\n",
    "df_train['Class_imputed'][df_train['Class_imputed'].isnull()] = df_train['class'].dropna().sample(df_train['class'].isnull().sum(),replace=True).values"
   ]
  },
  {
   "cell_type": "code",
   "execution_count": 12,
   "id": "550761f0-4538-4eba-8209-977b9d906c1f",
   "metadata": {},
   "outputs": [
    {
     "data": {
      "image/png": "[encoded data removed]",
      "text/plain": [
       "<Figure size 1000x600 with 1 Axes>"
      ]
     },
     "metadata": {},
     "output_type": "display_data"
    }
   ],
   "source": [
    "# Count the occurrences of each category\n",
    "class_counts = df_train['class'].value_counts()\n",
    "class_count_imputed= df_train['Class_imputed'].value_counts()\n",
    "# Plotting histograms using seaborn\n",
    "plt.figure(figsize=(10, 6))\n",
    "sns.histplot(df_train['class'], color='blue', label='Class', stat='count', discrete=True)\n",
    "sns.histplot(df_train['Class_imputed'], color='orange', label='Class_imputed', stat='count', discrete=True)\n",
    "\n",
    "# Adding labels and legend\n",
    "plt.xlabel('Class')\n",
    "plt.ylabel('Count')\n",
    "plt.title('Histograms of class + imputed-class')\n",
    "plt.legend()\n",
    "\n",
    "# Show the plot\n",
    "plt.show()"
   ]
  },
  {
   "cell_type": "code",
   "execution_count": 13,
   "id": "776e3127-0d6f-4f84-8ad3-df76313ff64b",
   "metadata": {},
   "outputs": [],
   "source": [
    "#removing features from training with significant missing values\n",
    "df_train.drop(columns=['ID','class','education_institute','unemployment_reason','is_labor_union','occupation_code_main','under_18_family','veterans_admin_questionnaire','migration_prev_sunbelt','residence_1_year_ago','old_residence_reg','old_residence_state','Class_imputed'],inplace=True)\n",
    "#removing features from testing with significant missing values\n",
    "df_test.drop(columns=['ID','class','education_institute','unemployment_reason','is_labor_union','occupation_code_main','under_18_family','veterans_admin_questionnaire','migration_prev_sunbelt','residence_1_year_ago','old_residence_reg','old_residence_state'],inplace=True)"
   ]
  },
  {
   "cell_type": "code",
   "execution_count": 14,
   "id": "1f36a1b9-ea04-4a4b-a3de-ca1b9da7680d",
   "metadata": {},
   "outputs": [
    {
     "data": {
      "text/html": [
       "<div>\n",
       "<style scoped>\n",
       "    .dataframe tbody tr th:only-of-type {\n",
       "        vertical-align: middle;\n",
       "    }\n",
       "\n",
       "    .dataframe tbody tr th {\n",
       "        vertical-align: top;\n",
       "    }\n",
       "\n",
       "    .dataframe thead th {\n",
       "        text-align: right;\n",
       "    }\n",
       "</style>\n",
       "<table border=\"1\" class=\"dataframe\">\n",
       "  <thead>\n",
       "    <tr style=\"text-align: right;\">\n",
       "      <th></th>\n",
       "      <th>%_missing_val</th>\n",
       "    </tr>\n",
       "  </thead>\n",
       "  <tbody>\n",
       "    <tr>\n",
       "      <th>age</th>\n",
       "      <td>0.000000</td>\n",
       "    </tr>\n",
       "    <tr>\n",
       "      <th>gender</th>\n",
       "      <td>0.000000</td>\n",
       "    </tr>\n",
       "    <tr>\n",
       "      <th>education</th>\n",
       "      <td>0.000000</td>\n",
       "    </tr>\n",
       "    <tr>\n",
       "      <th>marital_status</th>\n",
       "      <td>0.000000</td>\n",
       "    </tr>\n",
       "    <tr>\n",
       "      <th>race</th>\n",
       "      <td>0.000000</td>\n",
       "    </tr>\n",
       "    <tr>\n",
       "      <th>is_hispanic</th>\n",
       "      <td>0.000000</td>\n",
       "    </tr>\n",
       "    <tr>\n",
       "      <th>employment_commitment</th>\n",
       "      <td>0.000000</td>\n",
       "    </tr>\n",
       "    <tr>\n",
       "      <th>employment_stat</th>\n",
       "      <td>0.000000</td>\n",
       "    </tr>\n",
       "    <tr>\n",
       "      <th>wage_per_hour</th>\n",
       "      <td>0.000000</td>\n",
       "    </tr>\n",
       "    <tr>\n",
       "      <th>working_week_per_year</th>\n",
       "      <td>0.000000</td>\n",
       "    </tr>\n",
       "    <tr>\n",
       "      <th>industry_code</th>\n",
       "      <td>0.000000</td>\n",
       "    </tr>\n",
       "    <tr>\n",
       "      <th>industry_code_main</th>\n",
       "      <td>0.000000</td>\n",
       "    </tr>\n",
       "    <tr>\n",
       "      <th>occupation_code</th>\n",
       "      <td>0.000000</td>\n",
       "    </tr>\n",
       "    <tr>\n",
       "      <th>total_employed</th>\n",
       "      <td>0.000000</td>\n",
       "    </tr>\n",
       "    <tr>\n",
       "      <th>household_stat</th>\n",
       "      <td>0.000000</td>\n",
       "    </tr>\n",
       "    <tr>\n",
       "      <th>household_summary</th>\n",
       "      <td>0.000000</td>\n",
       "    </tr>\n",
       "    <tr>\n",
       "      <th>vet_benefit</th>\n",
       "      <td>0.000000</td>\n",
       "    </tr>\n",
       "    <tr>\n",
       "      <th>tax_status</th>\n",
       "      <td>0.000000</td>\n",
       "    </tr>\n",
       "    <tr>\n",
       "      <th>gains</th>\n",
       "      <td>0.000000</td>\n",
       "    </tr>\n",
       "    <tr>\n",
       "      <th>losses</th>\n",
       "      <td>0.000000</td>\n",
       "    </tr>\n",
       "    <tr>\n",
       "      <th>stocks_status</th>\n",
       "      <td>0.000000</td>\n",
       "    </tr>\n",
       "    <tr>\n",
       "      <th>citizenship</th>\n",
       "      <td>0.000000</td>\n",
       "    </tr>\n",
       "    <tr>\n",
       "      <th>mig_year</th>\n",
       "      <td>0.000000</td>\n",
       "    </tr>\n",
       "    <tr>\n",
       "      <th>country_of_birth_own</th>\n",
       "      <td>0.000000</td>\n",
       "    </tr>\n",
       "    <tr>\n",
       "      <th>country_of_birth_father</th>\n",
       "      <td>0.000000</td>\n",
       "    </tr>\n",
       "    <tr>\n",
       "      <th>country_of_birth_mother</th>\n",
       "      <td>0.000000</td>\n",
       "    </tr>\n",
       "    <tr>\n",
       "      <th>migration_code_change_in_msa</th>\n",
       "      <td>0.757999</td>\n",
       "    </tr>\n",
       "    <tr>\n",
       "      <th>migration_code_move_within_reg</th>\n",
       "      <td>0.757999</td>\n",
       "    </tr>\n",
       "    <tr>\n",
       "      <th>migration_code_change_in_reg</th>\n",
       "      <td>0.757999</td>\n",
       "    </tr>\n",
       "    <tr>\n",
       "      <th>importance_of_record</th>\n",
       "      <td>0.000000</td>\n",
       "    </tr>\n",
       "    <tr>\n",
       "      <th>income_above_limit</th>\n",
       "      <td>0.000000</td>\n",
       "    </tr>\n",
       "  </tbody>\n",
       "</table>\n",
       "</div>"
      ],
      "text/plain": [
       "                                %_missing_val\n",
       "age                                  0.000000\n",
       "gender                               0.000000\n",
       "education                            0.000000\n",
       "marital_status                       0.000000\n",
       "race                                 0.000000\n",
       "is_hispanic                          0.000000\n",
       "employment_commitment                0.000000\n",
       "employment_stat                      0.000000\n",
       "wage_per_hour                        0.000000\n",
       "working_week_per_year                0.000000\n",
       "industry_code                        0.000000\n",
       "industry_code_main                   0.000000\n",
       "occupation_code                      0.000000\n",
       "total_employed                       0.000000\n",
       "household_stat                       0.000000\n",
       "household_summary                    0.000000\n",
       "vet_benefit                          0.000000\n",
       "tax_status                           0.000000\n",
       "gains                                0.000000\n",
       "losses                               0.000000\n",
       "stocks_status                        0.000000\n",
       "citizenship                          0.000000\n",
       "mig_year                             0.000000\n",
       "country_of_birth_own                 0.000000\n",
       "country_of_birth_father              0.000000\n",
       "country_of_birth_mother              0.000000\n",
       "migration_code_change_in_msa         0.757999\n",
       "migration_code_move_within_reg       0.757999\n",
       "migration_code_change_in_reg         0.757999\n",
       "importance_of_record                 0.000000\n",
       "income_above_limit                   0.000000"
      ]
     },
     "execution_count": 14,
     "metadata": {},
     "output_type": "execute_result"
    }
   ],
   "source": [
    "_missing_val=pd.DataFrame(df_train.isnull().sum()/df_train.shape[0]*100)\n",
    "_missing_val=_missing_val.rename(columns={0: '%_missing_val'})\n",
    "_missing_val #data having greater than 40% loss values"
   ]
  },
  {
   "cell_type": "code",
   "execution_count": 15,
   "id": "2e5f22f3-5f07-40ca-9784-b96f80db065e",
   "metadata": {},
   "outputs": [
    {
     "data": {
      "text/html": [
       "<div>\n",
       "<style scoped>\n",
       "    .dataframe tbody tr th:only-of-type {\n",
       "        vertical-align: middle;\n",
       "    }\n",
       "\n",
       "    .dataframe tbody tr th {\n",
       "        vertical-align: top;\n",
       "    }\n",
       "\n",
       "    .dataframe thead th {\n",
       "        text-align: right;\n",
       "    }\n",
       "</style>\n",
       "<table border=\"1\" class=\"dataframe\">\n",
       "  <thead>\n",
       "    <tr style=\"text-align: right;\">\n",
       "      <th></th>\n",
       "      <th>%_missing_val</th>\n",
       "    </tr>\n",
       "  </thead>\n",
       "  <tbody>\n",
       "    <tr>\n",
       "      <th>migration_code_change_in_msa</th>\n",
       "      <td>0.757999</td>\n",
       "    </tr>\n",
       "    <tr>\n",
       "      <th>migration_code_move_within_reg</th>\n",
       "      <td>0.757999</td>\n",
       "    </tr>\n",
       "    <tr>\n",
       "      <th>migration_code_change_in_reg</th>\n",
       "      <td>0.757999</td>\n",
       "    </tr>\n",
       "  </tbody>\n",
       "</table>\n",
       "</div>"
      ],
      "text/plain": [
       "                                %_missing_val\n",
       "migration_code_change_in_msa         0.757999\n",
       "migration_code_move_within_reg       0.757999\n",
       "migration_code_change_in_reg         0.757999"
      ]
     },
     "execution_count": 15,
     "metadata": {},
     "output_type": "execute_result"
    }
   ],
   "source": [
    "_missing_val[_missing_val['%_missing_val']>0]"
   ]
  },
  {
   "cell_type": "code",
   "execution_count": 16,
   "id": "7d665155-194d-4e43-853d-25b3a9eb51bb",
   "metadata": {},
   "outputs": [
    {
     "name": "stderr",
     "output_type": "stream",
     "text": [
      "C:\\Users\\omshr\\AppData\\Local\\Temp\\ipykernel_40256\\3427257974.py:6: SettingWithCopyWarning: \n",
      "A value is trying to be set on a copy of a slice from a DataFrame\n",
      "\n",
      "See the caveats in the documentation: https://pandas.pydata.org/pandas-docs/stable/user_guide/indexing.html#returning-a-view-versus-a-copy\n",
      "  df_train['migration_code_change_in_msa_imputed'][df_train['migration_code_change_in_msa_imputed'].isnull()] = df_train['migration_code_change_in_msa'].dropna().sample(df_train['migration_code_change_in_msa'].isnull().sum(),replace=True).values\n"
     ]
    }
   ],
   "source": [
    "#handling missing values\n",
    "original_class=pd.DataFrame(df_train[\"migration_code_change_in_msa\"].value_counts()/df_train.shape[0])\n",
    "\n",
    "df_train['migration_code_change_in_msa_imputed']=df_train['migration_code_change_in_msa']\n",
    "\n",
    "df_train['migration_code_change_in_msa_imputed'][df_train['migration_code_change_in_msa_imputed'].isnull()] = df_train['migration_code_change_in_msa'].dropna().sample(df_train['migration_code_change_in_msa'].isnull().sum(),replace=True).values"
   ]
  },
  {
   "cell_type": "code",
   "execution_count": 17,
   "id": "09eddde1-7754-4bed-9eff-b00c06065874",
   "metadata": {},
   "outputs": [
    {
     "name": "stderr",
     "output_type": "stream",
     "text": [
      "C:\\Users\\omshr\\AppData\\Local\\Temp\\ipykernel_40256\\2765571039.py:6: SettingWithCopyWarning: \n",
      "A value is trying to be set on a copy of a slice from a DataFrame\n",
      "\n",
      "See the caveats in the documentation: https://pandas.pydata.org/pandas-docs/stable/user_guide/indexing.html#returning-a-view-versus-a-copy\n",
      "  df_test['migration_code_change_in_msa_imputed'][df_test['migration_code_change_in_msa_imputed'].isnull()] = df_test['migration_code_change_in_msa'].dropna().sample(df_test['migration_code_change_in_msa'].isnull().sum(),replace=True).values\n"
     ]
    }
   ],
   "source": [
    "#handling missing values\n",
    "original_class=pd.DataFrame(df_test[\"migration_code_change_in_msa\"].value_counts()/df_test.shape[0])\n",
    "\n",
    "df_test['migration_code_change_in_msa_imputed']=df_test['migration_code_change_in_msa']\n",
    "\n",
    "df_test['migration_code_change_in_msa_imputed'][df_test['migration_code_change_in_msa_imputed'].isnull()] = df_test['migration_code_change_in_msa'].dropna().sample(df_test['migration_code_change_in_msa'].isnull().sum(),replace=True).values"
   ]
  },
  {
   "cell_type": "code",
   "execution_count": 18,
   "id": "a7d07fed-582b-4879-95e1-b6a94b03c555",
   "metadata": {},
   "outputs": [
    {
     "data": {
      "image/png": "[encoded data removed]",
      "text/plain": [
       "<Figure size 1000x600 with 1 Axes>"
      ]
     },
     "metadata": {},
     "output_type": "display_data"
    }
   ],
   "source": [
    "# Count the occurrences of each category\n",
    "class_counts = df_train['migration_code_change_in_msa'].value_counts()\n",
    "class_count_imputed= df_train['migration_code_change_in_msa_imputed'].value_counts()\n",
    "# Plotting histograms using seaborn\n",
    "plt.figure(figsize=(10, 6))\n",
    "sns.histplot(df_train['migration_code_change_in_msa'], color='blue', label='migration_code_change_in_msa', stat='count', discrete=True)\n",
    "sns.histplot(df_train['migration_code_change_in_msa_imputed'], color='orange', label='migration_code_change_in_msa_imputed', stat='count', discrete=True)\n",
    "\n",
    "# Adding labels and legend\n",
    "plt.xlabel('migration_code_change_in_msa')\n",
    "plt.ylabel('Count')\n",
    "plt.title('Histograms of migration_code_change_in_msa_imputed + imputed-migration_code_change_in_msa')\n",
    "plt.legend()\n",
    "\n",
    "# Show the plot\n",
    "plt.show()"
   ]
  },
  {
   "cell_type": "code",
   "execution_count": 19,
   "id": "395780df-9c8f-47e1-b831-3d181c167d80",
   "metadata": {},
   "outputs": [
    {
     "data": {
      "text/html": [
       "<div>\n",
       "<style scoped>\n",
       "    .dataframe tbody tr th:only-of-type {\n",
       "        vertical-align: middle;\n",
       "    }\n",
       "\n",
       "    .dataframe tbody tr th {\n",
       "        vertical-align: top;\n",
       "    }\n",
       "\n",
       "    .dataframe thead th {\n",
       "        text-align: right;\n",
       "    }\n",
       "</style>\n",
       "<table border=\"1\" class=\"dataframe\">\n",
       "  <thead>\n",
       "    <tr style=\"text-align: right;\">\n",
       "      <th></th>\n",
       "      <th>count</th>\n",
       "      <th>count</th>\n",
       "    </tr>\n",
       "  </thead>\n",
       "  <tbody>\n",
       "    <tr>\n",
       "      <th>?</th>\n",
       "      <td>49.974463</td>\n",
       "      <td>50.371123</td>\n",
       "    </tr>\n",
       "    <tr>\n",
       "      <th>unchanged</th>\n",
       "      <td>41.462728</td>\n",
       "      <td>41.764400</td>\n",
       "    </tr>\n",
       "    <tr>\n",
       "      <th>MSA to MSA</th>\n",
       "      <td>5.296445</td>\n",
       "      <td>5.333200</td>\n",
       "    </tr>\n",
       "    <tr>\n",
       "      <th>NonMSA to nonMSA</th>\n",
       "      <td>1.385687</td>\n",
       "      <td>1.400484</td>\n",
       "    </tr>\n",
       "    <tr>\n",
       "      <th>MSA to nonMSA</th>\n",
       "      <td>0.371362</td>\n",
       "      <td>0.372794</td>\n",
       "    </tr>\n",
       "    <tr>\n",
       "      <th>NonMSA to MSA</th>\n",
       "      <td>0.306445</td>\n",
       "      <td>0.309787</td>\n",
       "    </tr>\n",
       "    <tr>\n",
       "      <th>Not identifiable</th>\n",
       "      <td>0.208116</td>\n",
       "      <td>0.210025</td>\n",
       "    </tr>\n",
       "    <tr>\n",
       "      <th>Abroad to MSA</th>\n",
       "      <td>0.199046</td>\n",
       "      <td>0.200478</td>\n",
       "    </tr>\n",
       "    <tr>\n",
       "      <th>Abroad to nonMSA</th>\n",
       "      <td>0.037709</td>\n",
       "      <td>0.037709</td>\n",
       "    </tr>\n",
       "  </tbody>\n",
       "</table>\n",
       "</div>"
      ],
      "text/plain": [
       "                       count      count\n",
       " ?                 49.974463  50.371123\n",
       "unchanged          41.462728  41.764400\n",
       " MSA to MSA         5.296445   5.333200\n",
       " NonMSA to nonMSA   1.385687   1.400484\n",
       " MSA to nonMSA      0.371362   0.372794\n",
       " NonMSA to MSA      0.306445   0.309787\n",
       " Not identifiable   0.208116   0.210025\n",
       " Abroad to MSA      0.199046   0.200478\n",
       " Abroad to nonMSA   0.037709   0.037709"
      ]
     },
     "execution_count": 19,
     "metadata": {},
     "output_type": "execute_result"
    }
   ],
   "source": [
    "temp_left=pd.DataFrame(df_train['migration_code_change_in_msa'].value_counts()/df_train.shape[0]*100)\n",
    "temp_right=pd.DataFrame(df_train['migration_code_change_in_msa_imputed'].value_counts()/df_train.shape[0]*100)\n",
    "result_final = pd.concat([temp_left, temp_right], axis=1)\n",
    "result_final #almost same perpotion so we can impute it without disturbing original behaviour of feature"
   ]
  },
  {
   "cell_type": "code",
   "execution_count": 20,
   "id": "9fba5283-b440-4304-9074-21791103376d",
   "metadata": {},
   "outputs": [
    {
     "data": {
      "image/png": "[encoded data removed]",
      "text/plain": [
       "<Figure size 1000x600 with 1 Axes>"
      ]
     },
     "metadata": {},
     "output_type": "display_data"
    }
   ],
   "source": [
    "# Count the occurrences of each category\n",
    "class_counts = df_test['migration_code_change_in_msa'].value_counts()\n",
    "class_count_imputed= df_test['migration_code_change_in_msa_imputed'].value_counts()\n",
    "# Plotting histograms using seaborn\n",
    "plt.figure(figsize=(10, 6))\n",
    "sns.histplot(df_test['migration_code_change_in_msa'], color='blue', label='migration_code_change_in_msa', stat='count', discrete=True)\n",
    "sns.histplot(df_test['migration_code_change_in_msa_imputed'], color='orange', label='migration_code_change_in_msa_imputed', stat='count', discrete=True)\n",
    "\n",
    "# Adding labels and legend\n",
    "plt.xlabel('migration_code_change_in_msa')\n",
    "plt.ylabel('Count')\n",
    "plt.title('Histograms of migration_code_change_in_msa_imputed + imputed-migration_code_change_in_msa')\n",
    "plt.legend()\n",
    "\n",
    "# Show the plot\n",
    "plt.show()"
   ]
  },
  {
   "cell_type": "code",
   "execution_count": 21,
   "id": "a089a191-91a7-471f-8bcc-33186c56726c",
   "metadata": {},
   "outputs": [
    {
     "data": {
      "text/html": [
       "<div>\n",
       "<style scoped>\n",
       "    .dataframe tbody tr th:only-of-type {\n",
       "        vertical-align: middle;\n",
       "    }\n",
       "\n",
       "    .dataframe tbody tr th {\n",
       "        vertical-align: top;\n",
       "    }\n",
       "\n",
       "    .dataframe thead th {\n",
       "        text-align: right;\n",
       "    }\n",
       "</style>\n",
       "<table border=\"1\" class=\"dataframe\">\n",
       "  <thead>\n",
       "    <tr style=\"text-align: right;\">\n",
       "      <th></th>\n",
       "      <th>count</th>\n",
       "      <th>count</th>\n",
       "    </tr>\n",
       "  </thead>\n",
       "  <tbody>\n",
       "    <tr>\n",
       "      <th>?</th>\n",
       "      <td>50.059029</td>\n",
       "      <td>50.412091</td>\n",
       "    </tr>\n",
       "    <tr>\n",
       "      <th>unchanged</th>\n",
       "      <td>41.290402</td>\n",
       "      <td>41.588889</td>\n",
       "    </tr>\n",
       "    <tr>\n",
       "      <th>MSA to MSA</th>\n",
       "      <td>5.339362</td>\n",
       "      <td>5.389482</td>\n",
       "    </tr>\n",
       "    <tr>\n",
       "      <th>NonMSA to nonMSA</th>\n",
       "      <td>1.394427</td>\n",
       "      <td>1.403337</td>\n",
       "    </tr>\n",
       "    <tr>\n",
       "      <th>MSA to nonMSA</th>\n",
       "      <td>0.418774</td>\n",
       "      <td>0.424342</td>\n",
       "    </tr>\n",
       "    <tr>\n",
       "      <th>NonMSA to MSA</th>\n",
       "      <td>0.298488</td>\n",
       "      <td>0.300715</td>\n",
       "    </tr>\n",
       "    <tr>\n",
       "      <th>Abroad to MSA</th>\n",
       "      <td>0.224979</td>\n",
       "      <td>0.230548</td>\n",
       "    </tr>\n",
       "    <tr>\n",
       "      <th>Not identifiable</th>\n",
       "      <td>0.216069</td>\n",
       "      <td>0.216069</td>\n",
       "    </tr>\n",
       "    <tr>\n",
       "      <th>Abroad to nonMSA</th>\n",
       "      <td>0.033413</td>\n",
       "      <td>0.034527</td>\n",
       "    </tr>\n",
       "  </tbody>\n",
       "</table>\n",
       "</div>"
      ],
      "text/plain": [
       "                       count      count\n",
       " ?                 50.059029  50.412091\n",
       "unchanged          41.290402  41.588889\n",
       " MSA to MSA         5.339362   5.389482\n",
       " NonMSA to nonMSA   1.394427   1.403337\n",
       " MSA to nonMSA      0.418774   0.424342\n",
       " NonMSA to MSA      0.298488   0.300715\n",
       " Abroad to MSA      0.224979   0.230548\n",
       " Not identifiable   0.216069   0.216069\n",
       " Abroad to nonMSA   0.033413   0.034527"
      ]
     },
     "execution_count": 21,
     "metadata": {},
     "output_type": "execute_result"
    }
   ],
   "source": [
    "temp_left=pd.DataFrame(df_test['migration_code_change_in_msa'].value_counts()/df_test.shape[0]*100)\n",
    "temp_right=pd.DataFrame(df_test['migration_code_change_in_msa_imputed'].value_counts()/df_test.shape[0]*100)\n",
    "result_final = pd.concat([temp_left, temp_right], axis=1)\n",
    "result_final #almost same perpotion so we can impute it without disturbing original behaviour of feature"
   ]
  },
  {
   "cell_type": "code",
   "execution_count": 22,
   "id": "9578cb57-ec04-4ceb-8855-495b89c4d60d",
   "metadata": {},
   "outputs": [],
   "source": [
    "df_test['migration_code_change_in_msa']=df_test['migration_code_change_in_msa_imputed']"
   ]
  },
  {
   "cell_type": "code",
   "execution_count": 23,
   "id": "de8f1479-40bf-44cf-b6f0-1a9f3e47b8dc",
   "metadata": {},
   "outputs": [],
   "source": [
    "df_train['migration_code_change_in_msa']=df_train['migration_code_change_in_msa_imputed']"
   ]
  },
  {
   "cell_type": "code",
   "execution_count": 24,
   "id": "7a52ceaa-a944-4b85-8148-1627f510bdda",
   "metadata": {},
   "outputs": [
    {
     "name": "stderr",
     "output_type": "stream",
     "text": [
      "C:\\Users\\omshr\\AppData\\Local\\Temp\\ipykernel_40256\\3427257974.py:6: SettingWithCopyWarning: \n",
      "A value is trying to be set on a copy of a slice from a DataFrame\n",
      "\n",
      "See the caveats in the documentation: https://pandas.pydata.org/pandas-docs/stable/user_guide/indexing.html#returning-a-view-versus-a-copy\n",
      "  df_train['migration_code_change_in_msa_imputed'][df_train['migration_code_change_in_msa_imputed'].isnull()] = df_train['migration_code_change_in_msa'].dropna().sample(df_train['migration_code_change_in_msa'].isnull().sum(),replace=True).values\n"
     ]
    }
   ],
   "source": [
    "#handling missing values\n",
    "original_class=pd.DataFrame(df_train[\"migration_code_change_in_msa\"].value_counts()/df_train.shape[0])\n",
    "\n",
    "df_train['migration_code_change_in_msa_imputed']=df_train['migration_code_change_in_msa']\n",
    "\n",
    "df_train['migration_code_change_in_msa_imputed'][df_train['migration_code_change_in_msa_imputed'].isnull()] = df_train['migration_code_change_in_msa'].dropna().sample(df_train['migration_code_change_in_msa'].isnull().sum(),replace=True).values"
   ]
  },
  {
   "cell_type": "raw",
   "id": "a7aa37e3-306f-400f-8948-b2cb526a330a",
   "metadata": {},
   "source": [
    "Univariate analysis"
   ]
  },
  {
   "cell_type": "code",
   "execution_count": 25,
   "id": "124b54b6-28d4-4013-bc0b-42723ff6d73a",
   "metadata": {},
   "outputs": [
    {
     "data": {
      "text/html": [
       "<div>\n",
       "<style scoped>\n",
       "    .dataframe tbody tr th:only-of-type {\n",
       "        vertical-align: middle;\n",
       "    }\n",
       "\n",
       "    .dataframe tbody tr th {\n",
       "        vertical-align: top;\n",
       "    }\n",
       "\n",
       "    .dataframe thead th {\n",
       "        text-align: right;\n",
       "    }\n",
       "</style>\n",
       "<table border=\"1\" class=\"dataframe\">\n",
       "  <thead>\n",
       "    <tr style=\"text-align: right;\">\n",
       "      <th></th>\n",
       "      <th>income_above_limit</th>\n",
       "    </tr>\n",
       "    <tr>\n",
       "      <th>gender</th>\n",
       "      <th></th>\n",
       "    </tr>\n",
       "  </thead>\n",
       "  <tbody>\n",
       "    <tr>\n",
       "      <th>Female</th>\n",
       "      <td>2.562877</td>\n",
       "    </tr>\n",
       "    <tr>\n",
       "      <th>Male</th>\n",
       "      <td>10.137517</td>\n",
       "    </tr>\n",
       "  </tbody>\n",
       "</table>\n",
       "</div>"
      ],
      "text/plain": [
       "         income_above_limit\n",
       "gender                     \n",
       " Female            2.562877\n",
       " Male             10.137517"
      ]
     },
     "execution_count": 25,
     "metadata": {},
     "output_type": "execute_result"
    }
   ],
   "source": [
    "df_train[['gender','income_above_limit']].groupby('gender').mean()*100"
   ]
  },
  {
   "cell_type": "code",
   "execution_count": 26,
   "id": "a65d0a91-e2f1-4dfc-8a27-a6ae55f8941b",
   "metadata": {},
   "outputs": [
    {
     "data": {
      "text/plain": [
       "<Axes: xlabel='gender'>"
      ]
     },
     "execution_count": 26,
     "metadata": {},
     "output_type": "execute_result"
    },
    {
     "data": {
      "image/png": "[encoded data removed]",
      "text/plain": [
       "<Figure size 640x480 with 1 Axes>"
      ]
     },
     "metadata": {},
     "output_type": "display_data"
    }
   ],
   "source": [
    "# Group by 'gender' and plot the bar chart\n",
    "df_train.groupby('gender')['income_above_limit'].value_counts().unstack().plot(kind='bar', stacked=True)"
   ]
  },
  {
   "cell_type": "code",
   "execution_count": 27,
   "id": "8ad508e6-162e-497e-8387-95b7cf038100",
   "metadata": {},
   "outputs": [
    {
     "data": {
      "text/plain": [
       "<Axes: xlabel='education'>"
      ]
     },
     "execution_count": 27,
     "metadata": {},
     "output_type": "execute_result"
    },
    {
     "data": {
      "image/png": "[encoded data removed]",
      "text/plain": [
       "<Figure size 640x480 with 1 Axes>"
      ]
     },
     "metadata": {},
     "output_type": "display_data"
    }
   ],
   "source": [
    "# Group by 'gender' and plot the bar chart\n",
    "df_train.groupby('education')['income_above_limit'].value_counts().unstack().plot(kind='bar', stacked=True)"
   ]
  },
  {
   "cell_type": "code",
   "execution_count": 28,
   "id": "6f28c801-0569-4fff-b0a6-8da8b5790c30",
   "metadata": {},
   "outputs": [
    {
     "data": {
      "text/html": [
       "<div>\n",
       "<style scoped>\n",
       "    .dataframe tbody tr th:only-of-type {\n",
       "        vertical-align: middle;\n",
       "    }\n",
       "\n",
       "    .dataframe tbody tr th {\n",
       "        vertical-align: top;\n",
       "    }\n",
       "\n",
       "    .dataframe thead th {\n",
       "        text-align: right;\n",
       "    }\n",
       "</style>\n",
       "<table border=\"1\" class=\"dataframe\">\n",
       "  <thead>\n",
       "    <tr style=\"text-align: right;\">\n",
       "      <th></th>\n",
       "      <th>income_above_limit</th>\n",
       "    </tr>\n",
       "    <tr>\n",
       "      <th>education</th>\n",
       "      <th></th>\n",
       "    </tr>\n",
       "  </thead>\n",
       "  <tbody>\n",
       "    <tr>\n",
       "      <th>10th grade</th>\n",
       "      <td>0.809614</td>\n",
       "    </tr>\n",
       "    <tr>\n",
       "      <th>11th grade</th>\n",
       "      <td>1.129477</td>\n",
       "    </tr>\n",
       "    <tr>\n",
       "      <th>12th grade no diploma</th>\n",
       "      <td>1.533742</td>\n",
       "    </tr>\n",
       "    <tr>\n",
       "      <th>1st 2nd 3rd or 4th grade</th>\n",
       "      <td>0.782473</td>\n",
       "    </tr>\n",
       "    <tr>\n",
       "      <th>5th or 6th grade</th>\n",
       "      <td>0.846979</td>\n",
       "    </tr>\n",
       "    <tr>\n",
       "      <th>7th and 8th grade</th>\n",
       "      <td>0.853283</td>\n",
       "    </tr>\n",
       "    <tr>\n",
       "      <th>9th grade</th>\n",
       "      <td>0.672783</td>\n",
       "    </tr>\n",
       "    <tr>\n",
       "      <th>Associates degree-academic program</th>\n",
       "      <td>9.190031</td>\n",
       "    </tr>\n",
       "    <tr>\n",
       "      <th>Associates degree-occup /vocational</th>\n",
       "      <td>7.238938</td>\n",
       "    </tr>\n",
       "    <tr>\n",
       "      <th>Bachelors degree(BA AB BS)</th>\n",
       "      <td>19.800753</td>\n",
       "    </tr>\n",
       "    <tr>\n",
       "      <th>Children</th>\n",
       "      <td>0.000000</td>\n",
       "    </tr>\n",
       "    <tr>\n",
       "      <th>Doctorate degree(PhD EdD)</th>\n",
       "      <td>51.517451</td>\n",
       "    </tr>\n",
       "    <tr>\n",
       "      <th>High school graduate</th>\n",
       "      <td>3.897130</td>\n",
       "    </tr>\n",
       "    <tr>\n",
       "      <th>Less than 1st grade</th>\n",
       "      <td>0.241255</td>\n",
       "    </tr>\n",
       "    <tr>\n",
       "      <th>Masters degree(MA MS MEng MEd MSW MBA)</th>\n",
       "      <td>31.613467</td>\n",
       "    </tr>\n",
       "    <tr>\n",
       "      <th>Prof school degree (MD DDS DVM LLB JD)</th>\n",
       "      <td>54.373650</td>\n",
       "    </tr>\n",
       "    <tr>\n",
       "      <th>Some college but no degree</th>\n",
       "      <td>6.309686</td>\n",
       "    </tr>\n",
       "  </tbody>\n",
       "</table>\n",
       "</div>"
      ],
      "text/plain": [
       "                                         income_above_limit\n",
       "education                                                  \n",
       " 10th grade                                        0.809614\n",
       " 11th grade                                        1.129477\n",
       " 12th grade no diploma                             1.533742\n",
       " 1st 2nd 3rd or 4th grade                          0.782473\n",
       " 5th or 6th grade                                  0.846979\n",
       " 7th and 8th grade                                 0.853283\n",
       " 9th grade                                         0.672783\n",
       " Associates degree-academic program                9.190031\n",
       " Associates degree-occup /vocational               7.238938\n",
       " Bachelors degree(BA AB BS)                       19.800753\n",
       " Children                                          0.000000\n",
       " Doctorate degree(PhD EdD)                        51.517451\n",
       " High school graduate                              3.897130\n",
       " Less than 1st grade                               0.241255\n",
       " Masters degree(MA MS MEng MEd MSW MBA)           31.613467\n",
       " Prof school degree (MD DDS DVM LLB JD)           54.373650\n",
       " Some college but no degree                        6.309686"
      ]
     },
     "execution_count": 28,
     "metadata": {},
     "output_type": "execute_result"
    }
   ],
   "source": [
    "df_train[['education','income_above_limit']].groupby('education').mean()*100"
   ]
  },
  {
   "cell_type": "code",
   "execution_count": 29,
   "id": "0ee00693-e4f8-498f-8305-e6d8bb596a3e",
   "metadata": {},
   "outputs": [
    {
     "data": {
      "text/plain": [
       "<Axes: xlabel='marital_status'>"
      ]
     },
     "execution_count": 29,
     "metadata": {},
     "output_type": "execute_result"
    },
    {
     "data": {
      "image/png": "[encoded data removed]",
      "text/plain": [
       "<Figure size 640x480 with 1 Axes>"
      ]
     },
     "metadata": {},
     "output_type": "display_data"
    }
   ],
   "source": [
    "df_train.groupby('marital_status')['income_above_limit'].value_counts().unstack().plot(kind='bar', stacked=True)"
   ]
  },
  {
   "cell_type": "code",
   "execution_count": 30,
   "id": "2445682f-82bc-41cb-8fd6-6efda345e7c6",
   "metadata": {},
   "outputs": [
    {
     "data": {
      "text/html": [
       "<div>\n",
       "<style scoped>\n",
       "    .dataframe tbody tr th:only-of-type {\n",
       "        vertical-align: middle;\n",
       "    }\n",
       "\n",
       "    .dataframe tbody tr th {\n",
       "        vertical-align: top;\n",
       "    }\n",
       "\n",
       "    .dataframe thead th {\n",
       "        text-align: right;\n",
       "    }\n",
       "</style>\n",
       "<table border=\"1\" class=\"dataframe\">\n",
       "  <thead>\n",
       "    <tr style=\"text-align: right;\">\n",
       "      <th></th>\n",
       "      <th>income_above_limit</th>\n",
       "    </tr>\n",
       "    <tr>\n",
       "      <th>marital_status</th>\n",
       "      <th></th>\n",
       "    </tr>\n",
       "  </thead>\n",
       "  <tbody>\n",
       "    <tr>\n",
       "      <th>Divorced</th>\n",
       "      <td>8.137634</td>\n",
       "    </tr>\n",
       "    <tr>\n",
       "      <th>Married-A F spouse present</th>\n",
       "      <td>1.805556</td>\n",
       "    </tr>\n",
       "    <tr>\n",
       "      <th>Married-civilian spouse present</th>\n",
       "      <td>11.417648</td>\n",
       "    </tr>\n",
       "    <tr>\n",
       "      <th>Married-spouse absent</th>\n",
       "      <td>6.632653</td>\n",
       "    </tr>\n",
       "    <tr>\n",
       "      <th>Never married</th>\n",
       "      <td>1.289640</td>\n",
       "    </tr>\n",
       "    <tr>\n",
       "      <th>Separated</th>\n",
       "      <td>4.365962</td>\n",
       "    </tr>\n",
       "    <tr>\n",
       "      <th>Widowed</th>\n",
       "      <td>3.309457</td>\n",
       "    </tr>\n",
       "  </tbody>\n",
       "</table>\n",
       "</div>"
      ],
      "text/plain": [
       "                                  income_above_limit\n",
       "marital_status                                      \n",
       " Divorced                                   8.137634\n",
       " Married-A F spouse present                 1.805556\n",
       " Married-civilian spouse present           11.417648\n",
       " Married-spouse absent                      6.632653\n",
       " Never married                              1.289640\n",
       " Separated                                  4.365962\n",
       " Widowed                                    3.309457"
      ]
     },
     "execution_count": 30,
     "metadata": {},
     "output_type": "execute_result"
    }
   ],
   "source": [
    "df_train[['marital_status','income_above_limit']].groupby('marital_status').mean()*100"
   ]
  },
  {
   "cell_type": "code",
   "execution_count": 31,
   "id": "512c6e64-c65a-4f35-80c0-a3ddb19f4f70",
   "metadata": {},
   "outputs": [
    {
     "data": {
      "text/plain": [
       "migration_code_move_within_reg\n",
       " ?                               104696\n",
       "unchanged                         86864\n",
       " Same county                      10196\n",
       " Different county same state       2946\n",
       " Different state in South          1003\n",
       " Different state in West            735\n",
       " Different state in Midwest         560\n",
       " Abroad                             498\n",
       " Different state in Northeast       413\n",
       "Name: count, dtype: int64"
      ]
     },
     "execution_count": 31,
     "metadata": {},
     "output_type": "execute_result"
    }
   ],
   "source": [
    "df_train['migration_code_move_within_reg'].value_counts()"
   ]
  },
  {
   "cell_type": "code",
   "execution_count": 32,
   "id": "b6f2bdc8-5a79-44cf-b0a5-42b5d22fcbd5",
   "metadata": {},
   "outputs": [
    {
     "name": "stderr",
     "output_type": "stream",
     "text": [
      "C:\\Users\\omshr\\AppData\\Local\\Temp\\ipykernel_40256\\3427257974.py:6: SettingWithCopyWarning: \n",
      "A value is trying to be set on a copy of a slice from a DataFrame\n",
      "\n",
      "See the caveats in the documentation: https://pandas.pydata.org/pandas-docs/stable/user_guide/indexing.html#returning-a-view-versus-a-copy\n",
      "  df_train['migration_code_change_in_msa_imputed'][df_train['migration_code_change_in_msa_imputed'].isnull()] = df_train['migration_code_change_in_msa'].dropna().sample(df_train['migration_code_change_in_msa'].isnull().sum(),replace=True).values\n"
     ]
    }
   ],
   "source": [
    "#handling missing values\n",
    "original_class=pd.DataFrame(df_train[\"migration_code_change_in_msa\"].value_counts()/df_train.shape[0])\n",
    "\n",
    "df_train['migration_code_change_in_msa_imputed']=df_train['migration_code_change_in_msa']\n",
    "\n",
    "df_train['migration_code_change_in_msa_imputed'][df_train['migration_code_change_in_msa_imputed'].isnull()] = df_train['migration_code_change_in_msa'].dropna().sample(df_train['migration_code_change_in_msa'].isnull().sum(),replace=True).values"
   ]
  },
  {
   "cell_type": "code",
   "execution_count": 33,
   "id": "d21050e4-584d-440d-9065-a1fb590ae451",
   "metadata": {},
   "outputs": [
    {
     "data": {
      "text/plain": [
       "migration_code_change_in_reg\n",
       " ?                                 104696\n",
       "unchanged                           86864\n",
       " Same county                        10196\n",
       " Different county same state         2946\n",
       " Different region                    1206\n",
       " Different state same division       1018\n",
       " Abroad                               498\n",
       " Different division same region       487\n",
       "Name: count, dtype: int64"
      ]
     },
     "execution_count": 33,
     "metadata": {},
     "output_type": "execute_result"
    }
   ],
   "source": [
    "df_train['migration_code_change_in_reg'].value_counts()"
   ]
  },
  {
   "cell_type": "code",
   "execution_count": 34,
   "id": "20554b7d-6c37-4ffb-8f95-474fa2111618",
   "metadata": {},
   "outputs": [
    {
     "data": {
      "text/html": [
       "<div>\n",
       "<style scoped>\n",
       "    .dataframe tbody tr th:only-of-type {\n",
       "        vertical-align: middle;\n",
       "    }\n",
       "\n",
       "    .dataframe tbody tr th {\n",
       "        vertical-align: top;\n",
       "    }\n",
       "\n",
       "    .dataframe thead th {\n",
       "        text-align: right;\n",
       "    }\n",
       "</style>\n",
       "<table border=\"1\" class=\"dataframe\">\n",
       "  <thead>\n",
       "    <tr style=\"text-align: right;\">\n",
       "      <th></th>\n",
       "      <th>migration_code_change_in_reg</th>\n",
       "      <th>migration_code_move_within_reg</th>\n",
       "    </tr>\n",
       "  </thead>\n",
       "  <tbody>\n",
       "    <tr>\n",
       "      <th>146114</th>\n",
       "      <td>?</td>\n",
       "      <td>?</td>\n",
       "    </tr>\n",
       "    <tr>\n",
       "      <th>74480</th>\n",
       "      <td>unchanged</td>\n",
       "      <td>unchanged</td>\n",
       "    </tr>\n",
       "    <tr>\n",
       "      <th>13748</th>\n",
       "      <td>unchanged</td>\n",
       "      <td>unchanged</td>\n",
       "    </tr>\n",
       "    <tr>\n",
       "      <th>154770</th>\n",
       "      <td>?</td>\n",
       "      <td>?</td>\n",
       "    </tr>\n",
       "    <tr>\n",
       "      <th>54859</th>\n",
       "      <td>unchanged</td>\n",
       "      <td>unchanged</td>\n",
       "    </tr>\n",
       "    <tr>\n",
       "      <th>163618</th>\n",
       "      <td>Same county</td>\n",
       "      <td>Same county</td>\n",
       "    </tr>\n",
       "    <tr>\n",
       "      <th>181203</th>\n",
       "      <td>?</td>\n",
       "      <td>?</td>\n",
       "    </tr>\n",
       "    <tr>\n",
       "      <th>17913</th>\n",
       "      <td>unchanged</td>\n",
       "      <td>unchanged</td>\n",
       "    </tr>\n",
       "    <tr>\n",
       "      <th>130068</th>\n",
       "      <td>?</td>\n",
       "      <td>?</td>\n",
       "    </tr>\n",
       "    <tr>\n",
       "      <th>129746</th>\n",
       "      <td>?</td>\n",
       "      <td>?</td>\n",
       "    </tr>\n",
       "  </tbody>\n",
       "</table>\n",
       "</div>"
      ],
      "text/plain": [
       "       migration_code_change_in_reg migration_code_move_within_reg\n",
       "146114                            ?                              ?\n",
       "74480                     unchanged                      unchanged\n",
       "13748                     unchanged                      unchanged\n",
       "154770                            ?                              ?\n",
       "54859                     unchanged                      unchanged\n",
       "163618                  Same county                    Same county\n",
       "181203                            ?                              ?\n",
       "17913                     unchanged                      unchanged\n",
       "130068                            ?                              ?\n",
       "129746                            ?                              ?"
      ]
     },
     "execution_count": 34,
     "metadata": {},
     "output_type": "execute_result"
    }
   ],
   "source": [
    "df_train[['migration_code_change_in_reg','migration_code_move_within_reg']].sample(10) #duplicate columns"
   ]
  },
  {
   "cell_type": "code",
   "execution_count": 35,
   "id": "4aba3444-1bd5-45c2-b934-168649f495b2",
   "metadata": {},
   "outputs": [],
   "source": [
    "df_train.drop(columns=['migration_code_change_in_reg','migration_code_move_within_reg','migration_code_change_in_msa_imputed'],inplace=True)"
   ]
  },
  {
   "cell_type": "code",
   "execution_count": 36,
   "id": "59d12119-cda9-4f74-9b41-d327d0e8205e",
   "metadata": {},
   "outputs": [
    {
     "data": {
      "text/plain": [
       "age                             0.0\n",
       "gender                          0.0\n",
       "education                       0.0\n",
       "marital_status                  0.0\n",
       "race                            0.0\n",
       "is_hispanic                     0.0\n",
       "employment_commitment           0.0\n",
       "employment_stat                 0.0\n",
       "wage_per_hour                   0.0\n",
       "working_week_per_year           0.0\n",
       "industry_code                   0.0\n",
       "industry_code_main              0.0\n",
       "occupation_code                 0.0\n",
       "total_employed                  0.0\n",
       "household_stat                  0.0\n",
       "household_summary               0.0\n",
       "vet_benefit                     0.0\n",
       "tax_status                      0.0\n",
       "gains                           0.0\n",
       "losses                          0.0\n",
       "stocks_status                   0.0\n",
       "citizenship                     0.0\n",
       "mig_year                        0.0\n",
       "country_of_birth_own            0.0\n",
       "country_of_birth_father         0.0\n",
       "country_of_birth_mother         0.0\n",
       "migration_code_change_in_msa    0.0\n",
       "importance_of_record            0.0\n",
       "income_above_limit              0.0\n",
       "dtype: float64"
      ]
     },
     "execution_count": 36,
     "metadata": {},
     "output_type": "execute_result"
    }
   ],
   "source": [
    "df_train.isnull().mean() #handeled missing values"
   ]
  },
  {
   "cell_type": "raw",
   "id": "320a6ded-31e5-4efb-867f-373fd5a9067e",
   "metadata": {},
   "source": [
    "Dealing with categorical data"
   ]
  },
  {
   "cell_type": "code",
   "execution_count": 37,
   "id": "9e6cb134-16f7-43f0-b6a2-38b33389ccd0",
   "metadata": {},
   "outputs": [],
   "source": [
    "# Identify categorical columns\n",
    "categorical_columns = df_train.select_dtypes(include=['object']).columns.tolist()"
   ]
  },
  {
   "cell_type": "code",
   "execution_count": 38,
   "id": "afc5ba97-c0bd-44b7-a55f-2211100d85d6",
   "metadata": {},
   "outputs": [
    {
     "name": "stdout",
     "output_type": "stream",
     "text": [
      "<class 'pandas.core.frame.DataFrame'>\n",
      "RangeIndex: 209499 entries, 0 to 209498\n",
      "Data columns (total 15 columns):\n",
      " #   Column                        Non-Null Count   Dtype \n",
      "---  ------                        --------------   ----- \n",
      " 0   gender                        209499 non-null  object\n",
      " 1   education                     209499 non-null  object\n",
      " 2   marital_status                209499 non-null  object\n",
      " 3   race                          209499 non-null  object\n",
      " 4   is_hispanic                   209499 non-null  object\n",
      " 5   employment_commitment         209499 non-null  object\n",
      " 6   industry_code_main            209499 non-null  object\n",
      " 7   household_stat                209499 non-null  object\n",
      " 8   household_summary             209499 non-null  object\n",
      " 9   tax_status                    209499 non-null  object\n",
      " 10  citizenship                   209499 non-null  object\n",
      " 11  country_of_birth_own          209499 non-null  object\n",
      " 12  country_of_birth_father       209499 non-null  object\n",
      " 13  country_of_birth_mother       209499 non-null  object\n",
      " 14  migration_code_change_in_msa  209499 non-null  object\n",
      "dtypes: object(15)\n",
      "memory usage: 24.0+ MB\n"
     ]
    }
   ],
   "source": [
    "df_train[categorical_columns].info()"
   ]
  },
  {
   "cell_type": "markdown",
   "id": "a6c29f4f-93bf-45fe-8c39-ca2682b78531",
   "metadata": {},
   "source": [
    "Preprocessing and cleaning of data"
   ]
  },
  {
   "cell_type": "code",
   "execution_count": 39,
   "id": "75cc751b-5bf5-451d-8845-2ae95f10fd90",
   "metadata": {},
   "outputs": [],
   "source": [
    "categorical_col=['gender','education','marital_status','race','is_hispanic','employment_commitment','industry_code_main','household_stat','household_summary','tax_status','citizenship','country_of_birth_own','country_of_birth_father','country_of_birth_mother','migration_code_change_in_msa']"
   ]
  },
  {
   "cell_type": "code",
   "execution_count": 40,
   "id": "331c505b-2b9a-48ec-800d-40538a1be474",
   "metadata": {},
   "outputs": [],
   "source": [
    "#dealing with numerical columns\n",
    "numerical_col=[]\n",
    "for i in df_train.columns:\n",
    "    if i not in categorical_columns:\n",
    "        numerical_col.append(i)"
   ]
  },
  {
   "cell_type": "code",
   "execution_count": 41,
   "id": "bb2d9a7c-4713-43af-957d-805ed91ebb6c",
   "metadata": {},
   "outputs": [],
   "source": [
    "df_train_numerical=df_train[numerical_col]"
   ]
  },
  {
   "cell_type": "code",
   "execution_count": 42,
   "id": "05cc4bc3-2052-4b75-9984-351d3a23028c",
   "metadata": {},
   "outputs": [
    {
     "data": {
      "text/plain": [
       "age                      0.0\n",
       "employment_stat          0.0\n",
       "wage_per_hour            0.0\n",
       "working_week_per_year    0.0\n",
       "industry_code            0.0\n",
       "occupation_code          0.0\n",
       "total_employed           0.0\n",
       "vet_benefit              0.0\n",
       "gains                    0.0\n",
       "losses                   0.0\n",
       "stocks_status            0.0\n",
       "mig_year                 0.0\n",
       "importance_of_record     0.0\n",
       "income_above_limit       0.0\n",
       "dtype: float64"
      ]
     },
     "execution_count": 42,
     "metadata": {},
     "output_type": "execute_result"
    }
   ],
   "source": [
    "df_train_numerical.isnull().mean() #missing data in dataset"
   ]
  },
  {
   "cell_type": "code",
   "execution_count": 43,
   "id": "e46470bc-df4f-4b49-b419-972946908b61",
   "metadata": {},
   "outputs": [],
   "source": [
    "le=LabelEncoder()"
   ]
  },
  {
   "cell_type": "code",
   "execution_count": 44,
   "id": "4dff00a2-db43-4ee3-96e0-6b0c9f6f151c",
   "metadata": {},
   "outputs": [],
   "source": [
    "for i in categorical_col:\n",
    "    df_train[i]=le.fit_transform(df_train[i])"
   ]
  },
  {
   "cell_type": "code",
   "execution_count": 45,
   "id": "70d0eb90-c3f2-43dc-82b0-1c80023eed40",
   "metadata": {},
   "outputs": [],
   "source": [
    "scaler=StandardScaler()"
   ]
  },
  {
   "cell_type": "code",
   "execution_count": 46,
   "id": "7596a089-114a-4bb9-8e11-25f5d4197215",
   "metadata": {},
   "outputs": [],
   "source": [
    "for i in df_train_numerical:\n",
    "    df_train[i]=le.fit_transform(df_train[i])"
   ]
  },
  {
   "cell_type": "code",
   "execution_count": 47,
   "id": "ef746ae7-3715-40af-b958-8e443106511d",
   "metadata": {},
   "outputs": [],
   "source": [
    "#other columns\n",
    "other_col=[]\n",
    "for i in df_train.columns:\n",
    "    if ((i not in categorical_columns) and (i not in df_train_numerical)):\n",
    "        other_col.append(i)"
   ]
  },
  {
   "cell_type": "code",
   "execution_count": 48,
   "id": "2df1a3c4-f66d-4a7e-a8c7-cb08efac3214",
   "metadata": {},
   "outputs": [],
   "source": [
    "X_train=df_train.iloc[:,:-1]\n",
    "Y_train=df_train.iloc[:,:-1]"
   ]
  },
  {
   "cell_type": "code",
   "execution_count": 49,
   "id": "c22df6e6-5938-402e-9e8e-b1ddb11b7b04",
   "metadata": {},
   "outputs": [
    {
     "data": {
      "text/plain": [
       "28"
      ]
     },
     "execution_count": 49,
     "metadata": {},
     "output_type": "execute_result"
    }
   ],
   "source": [
    "len(X_train.columns)"
   ]
  },
  {
   "cell_type": "code",
   "execution_count": 50,
   "id": "b0801ed6-8e6f-472d-8b5f-de720328e2ad",
   "metadata": {},
   "outputs": [],
   "source": [
    "X_train_valid,X_test_valid,Y_train_valid,Y_test_valid=train_test_split(X_train,Y_train,test_size=0.25,random_state=256)"
   ]
  },
  {
   "cell_type": "code",
   "execution_count": 51,
   "id": "50bafa00-485b-424f-9e47-1f600d9975b4",
   "metadata": {},
   "outputs": [],
   "source": [
    "rfc=RandomForestClassifier()"
   ]
  },
  {
   "cell_type": "code",
   "execution_count": 52,
   "id": "3680bb5b-1596-4de7-a150-11a5d88b3421",
   "metadata": {},
   "outputs": [
    {
     "ename": "MemoryError",
     "evalue": "could not allocate 9990127616 bytes",
     "output_type": "error",
     "traceback": [
      "\u001b[1;31m---------------------------------------------------------------------------\u001b[0m",
      "\u001b[1;31mMemoryError\u001b[0m                               Traceback (most recent call last)",
      "Cell \u001b[1;32mIn[52], line 1\u001b[0m\n\u001b[1;32m----> 1\u001b[0m \u001b[43mrfc\u001b[49m\u001b[38;5;241;43m.\u001b[39;49m\u001b[43mfit\u001b[49m\u001b[43m(\u001b[49m\u001b[43mX_train_valid\u001b[49m\u001b[43m,\u001b[49m\u001b[43mY_train_valid\u001b[49m\u001b[43m)\u001b[49m\n",
      "File \u001b[1;32m~\\AppData\\Local\\Programs\\Python\\Python312\\Lib\\site-packages\\sklearn\\base.py:1351\u001b[0m, in \u001b[0;36m_fit_context.<locals>.decorator.<locals>.wrapper\u001b[1;34m(estimator, *args, **kwargs)\u001b[0m\n\u001b[0;32m   1344\u001b[0m     estimator\u001b[38;5;241m.\u001b[39m_validate_params()\n\u001b[0;32m   1346\u001b[0m \u001b[38;5;28;01mwith\u001b[39;00m config_context(\n\u001b[0;32m   1347\u001b[0m     skip_parameter_validation\u001b[38;5;241m=\u001b[39m(\n\u001b[0;32m   1348\u001b[0m         prefer_skip_nested_validation \u001b[38;5;129;01mor\u001b[39;00m global_skip_validation\n\u001b[0;32m   1349\u001b[0m     )\n\u001b[0;32m   1350\u001b[0m ):\n\u001b[1;32m-> 1351\u001b[0m     \u001b[38;5;28;01mreturn\u001b[39;00m \u001b[43mfit_method\u001b[49m\u001b[43m(\u001b[49m\u001b[43mestimator\u001b[49m\u001b[43m,\u001b[49m\u001b[43m \u001b[49m\u001b[38;5;241;43m*\u001b[39;49m\u001b[43margs\u001b[49m\u001b[43m,\u001b[49m\u001b[43m \u001b[49m\u001b[38;5;241;43m*\u001b[39;49m\u001b[38;5;241;43m*\u001b[39;49m\u001b[43mkwargs\u001b[49m\u001b[43m)\u001b[49m\n",
      "File \u001b[1;32m~\\AppData\\Local\\Programs\\Python\\Python312\\Lib\\site-packages\\sklearn\\ensemble\\_forest.py:489\u001b[0m, in \u001b[0;36mBaseForest.fit\u001b[1;34m(self, X, y, sample_weight)\u001b[0m\n\u001b[0;32m    478\u001b[0m trees \u001b[38;5;241m=\u001b[39m [\n\u001b[0;32m    479\u001b[0m     \u001b[38;5;28mself\u001b[39m\u001b[38;5;241m.\u001b[39m_make_estimator(append\u001b[38;5;241m=\u001b[39m\u001b[38;5;28;01mFalse\u001b[39;00m, random_state\u001b[38;5;241m=\u001b[39mrandom_state)\n\u001b[0;32m    480\u001b[0m     \u001b[38;5;28;01mfor\u001b[39;00m i \u001b[38;5;129;01min\u001b[39;00m \u001b[38;5;28mrange\u001b[39m(n_more_estimators)\n\u001b[0;32m    481\u001b[0m ]\n\u001b[0;32m    483\u001b[0m \u001b[38;5;66;03m# Parallel loop: we prefer the threading backend as the Cython code\u001b[39;00m\n\u001b[0;32m    484\u001b[0m \u001b[38;5;66;03m# for fitting the trees is internally releasing the Python GIL\u001b[39;00m\n\u001b[0;32m    485\u001b[0m \u001b[38;5;66;03m# making threading more efficient than multiprocessing in\u001b[39;00m\n\u001b[0;32m    486\u001b[0m \u001b[38;5;66;03m# that case. However, for joblib 0.12+ we respect any\u001b[39;00m\n\u001b[0;32m    487\u001b[0m \u001b[38;5;66;03m# parallel_backend contexts set at a higher level,\u001b[39;00m\n\u001b[0;32m    488\u001b[0m \u001b[38;5;66;03m# since correctness does not rely on using threads.\u001b[39;00m\n\u001b[1;32m--> 489\u001b[0m trees \u001b[38;5;241m=\u001b[39m \u001b[43mParallel\u001b[49m\u001b[43m(\u001b[49m\n\u001b[0;32m    490\u001b[0m \u001b[43m    \u001b[49m\u001b[43mn_jobs\u001b[49m\u001b[38;5;241;43m=\u001b[39;49m\u001b[38;5;28;43mself\u001b[39;49m\u001b[38;5;241;43m.\u001b[39;49m\u001b[43mn_jobs\u001b[49m\u001b[43m,\u001b[49m\n\u001b[0;32m    491\u001b[0m \u001b[43m    \u001b[49m\u001b[43mverbose\u001b[49m\u001b[38;5;241;43m=\u001b[39;49m\u001b[38;5;28;43mself\u001b[39;49m\u001b[38;5;241;43m.\u001b[39;49m\u001b[43mverbose\u001b[49m\u001b[43m,\u001b[49m\n\u001b[0;32m    492\u001b[0m \u001b[43m    \u001b[49m\u001b[43mprefer\u001b[49m\u001b[38;5;241;43m=\u001b[39;49m\u001b[38;5;124;43m\"\u001b[39;49m\u001b[38;5;124;43mthreads\u001b[39;49m\u001b[38;5;124;43m\"\u001b[39;49m\u001b[43m,\u001b[49m\n\u001b[0;32m    493\u001b[0m \u001b[43m\u001b[49m\u001b[43m)\u001b[49m\u001b[43m(\u001b[49m\n\u001b[0;32m    494\u001b[0m \u001b[43m    \u001b[49m\u001b[43mdelayed\u001b[49m\u001b[43m(\u001b[49m\u001b[43m_parallel_build_trees\u001b[49m\u001b[43m)\u001b[49m\u001b[43m(\u001b[49m\n\u001b[0;32m    495\u001b[0m \u001b[43m        \u001b[49m\u001b[43mt\u001b[49m\u001b[43m,\u001b[49m\n\u001b[0;32m    496\u001b[0m \u001b[43m        \u001b[49m\u001b[38;5;28;43mself\u001b[39;49m\u001b[38;5;241;43m.\u001b[39;49m\u001b[43mbootstrap\u001b[49m\u001b[43m,\u001b[49m\n\u001b[0;32m    497\u001b[0m \u001b[43m        \u001b[49m\u001b[43mX\u001b[49m\u001b[43m,\u001b[49m\n\u001b[0;32m    498\u001b[0m \u001b[43m        \u001b[49m\u001b[43my\u001b[49m\u001b[43m,\u001b[49m\n\u001b[0;32m    499\u001b[0m \u001b[43m        \u001b[49m\u001b[43msample_weight\u001b[49m\u001b[43m,\u001b[49m\n\u001b[0;32m    500\u001b[0m \u001b[43m        \u001b[49m\u001b[43mi\u001b[49m\u001b[43m,\u001b[49m\n\u001b[0;32m    501\u001b[0m \u001b[43m        \u001b[49m\u001b[38;5;28;43mlen\u001b[39;49m\u001b[43m(\u001b[49m\u001b[43mtrees\u001b[49m\u001b[43m)\u001b[49m\u001b[43m,\u001b[49m\n\u001b[0;32m    502\u001b[0m \u001b[43m        \u001b[49m\u001b[43mverbose\u001b[49m\u001b[38;5;241;43m=\u001b[39;49m\u001b[38;5;28;43mself\u001b[39;49m\u001b[38;5;241;43m.\u001b[39;49m\u001b[43mverbose\u001b[49m\u001b[43m,\u001b[49m\n\u001b[0;32m    503\u001b[0m \u001b[43m        \u001b[49m\u001b[43mclass_weight\u001b[49m\u001b[38;5;241;43m=\u001b[39;49m\u001b[38;5;28;43mself\u001b[39;49m\u001b[38;5;241;43m.\u001b[39;49m\u001b[43mclass_weight\u001b[49m\u001b[43m,\u001b[49m\n\u001b[0;32m    504\u001b[0m \u001b[43m        \u001b[49m\u001b[43mn_samples_bootstrap\u001b[49m\u001b[38;5;241;43m=\u001b[39;49m\u001b[43mn_samples_bootstrap\u001b[49m\u001b[43m,\u001b[49m\n\u001b[0;32m    505\u001b[0m \u001b[43m        \u001b[49m\u001b[43mmissing_values_in_feature_mask\u001b[49m\u001b[38;5;241;43m=\u001b[39;49m\u001b[43mmissing_values_in_feature_mask\u001b[49m\u001b[43m,\u001b[49m\n\u001b[0;32m    506\u001b[0m \u001b[43m    \u001b[49m\u001b[43m)\u001b[49m\n\u001b[0;32m    507\u001b[0m \u001b[43m    \u001b[49m\u001b[38;5;28;43;01mfor\u001b[39;49;00m\u001b[43m \u001b[49m\u001b[43mi\u001b[49m\u001b[43m,\u001b[49m\u001b[43m \u001b[49m\u001b[43mt\u001b[49m\u001b[43m \u001b[49m\u001b[38;5;129;43;01min\u001b[39;49;00m\u001b[43m \u001b[49m\u001b[38;5;28;43menumerate\u001b[39;49m\u001b[43m(\u001b[49m\u001b[43mtrees\u001b[49m\u001b[43m)\u001b[49m\n\u001b[0;32m    508\u001b[0m \u001b[43m\u001b[49m\u001b[43m)\u001b[49m\n\u001b[0;32m    510\u001b[0m \u001b[38;5;66;03m# Collect newly grown trees\u001b[39;00m\n\u001b[0;32m    511\u001b[0m \u001b[38;5;28mself\u001b[39m\u001b[38;5;241m.\u001b[39mestimators_\u001b[38;5;241m.\u001b[39mextend(trees)\n",
      "File \u001b[1;32m~\\AppData\\Local\\Programs\\Python\\Python312\\Lib\\site-packages\\sklearn\\utils\\parallel.py:67\u001b[0m, in \u001b[0;36mParallel.__call__\u001b[1;34m(self, iterable)\u001b[0m\n\u001b[0;32m     62\u001b[0m config \u001b[38;5;241m=\u001b[39m get_config()\n\u001b[0;32m     63\u001b[0m iterable_with_config \u001b[38;5;241m=\u001b[39m (\n\u001b[0;32m     64\u001b[0m     (_with_config(delayed_func, config), args, kwargs)\n\u001b[0;32m     65\u001b[0m     \u001b[38;5;28;01mfor\u001b[39;00m delayed_func, args, kwargs \u001b[38;5;129;01min\u001b[39;00m iterable\n\u001b[0;32m     66\u001b[0m )\n\u001b[1;32m---> 67\u001b[0m \u001b[38;5;28;01mreturn\u001b[39;00m \u001b[38;5;28;43msuper\u001b[39;49m\u001b[43m(\u001b[49m\u001b[43m)\u001b[49m\u001b[38;5;241;43m.\u001b[39;49m\u001b[38;5;21;43m__call__\u001b[39;49m\u001b[43m(\u001b[49m\u001b[43miterable_with_config\u001b[49m\u001b[43m)\u001b[49m\n",
      "File \u001b[1;32m~\\AppData\\Local\\Programs\\Python\\Python312\\Lib\\site-packages\\joblib\\parallel.py:1863\u001b[0m, in \u001b[0;36mParallel.__call__\u001b[1;34m(self, iterable)\u001b[0m\n\u001b[0;32m   1861\u001b[0m     output \u001b[38;5;241m=\u001b[39m \u001b[38;5;28mself\u001b[39m\u001b[38;5;241m.\u001b[39m_get_sequential_output(iterable)\n\u001b[0;32m   1862\u001b[0m     \u001b[38;5;28mnext\u001b[39m(output)\n\u001b[1;32m-> 1863\u001b[0m     \u001b[38;5;28;01mreturn\u001b[39;00m output \u001b[38;5;28;01mif\u001b[39;00m \u001b[38;5;28mself\u001b[39m\u001b[38;5;241m.\u001b[39mreturn_generator \u001b[38;5;28;01melse\u001b[39;00m \u001b[38;5;28;43mlist\u001b[39;49m\u001b[43m(\u001b[49m\u001b[43moutput\u001b[49m\u001b[43m)\u001b[49m\n\u001b[0;32m   1865\u001b[0m \u001b[38;5;66;03m# Let's create an ID that uniquely identifies the current call. If the\u001b[39;00m\n\u001b[0;32m   1866\u001b[0m \u001b[38;5;66;03m# call is interrupted early and that the same instance is immediately\u001b[39;00m\n\u001b[0;32m   1867\u001b[0m \u001b[38;5;66;03m# re-used, this id will be used to prevent workers that were\u001b[39;00m\n\u001b[0;32m   1868\u001b[0m \u001b[38;5;66;03m# concurrently finalizing a task from the previous call to run the\u001b[39;00m\n\u001b[0;32m   1869\u001b[0m \u001b[38;5;66;03m# callback.\u001b[39;00m\n\u001b[0;32m   1870\u001b[0m \u001b[38;5;28;01mwith\u001b[39;00m \u001b[38;5;28mself\u001b[39m\u001b[38;5;241m.\u001b[39m_lock:\n",
      "File \u001b[1;32m~\\AppData\\Local\\Programs\\Python\\Python312\\Lib\\site-packages\\joblib\\parallel.py:1792\u001b[0m, in \u001b[0;36mParallel._get_sequential_output\u001b[1;34m(self, iterable)\u001b[0m\n\u001b[0;32m   1790\u001b[0m \u001b[38;5;28mself\u001b[39m\u001b[38;5;241m.\u001b[39mn_dispatched_batches \u001b[38;5;241m+\u001b[39m\u001b[38;5;241m=\u001b[39m \u001b[38;5;241m1\u001b[39m\n\u001b[0;32m   1791\u001b[0m \u001b[38;5;28mself\u001b[39m\u001b[38;5;241m.\u001b[39mn_dispatched_tasks \u001b[38;5;241m+\u001b[39m\u001b[38;5;241m=\u001b[39m \u001b[38;5;241m1\u001b[39m\n\u001b[1;32m-> 1792\u001b[0m res \u001b[38;5;241m=\u001b[39m \u001b[43mfunc\u001b[49m\u001b[43m(\u001b[49m\u001b[38;5;241;43m*\u001b[39;49m\u001b[43margs\u001b[49m\u001b[43m,\u001b[49m\u001b[43m \u001b[49m\u001b[38;5;241;43m*\u001b[39;49m\u001b[38;5;241;43m*\u001b[39;49m\u001b[43mkwargs\u001b[49m\u001b[43m)\u001b[49m\n\u001b[0;32m   1793\u001b[0m \u001b[38;5;28mself\u001b[39m\u001b[38;5;241m.\u001b[39mn_completed_tasks \u001b[38;5;241m+\u001b[39m\u001b[38;5;241m=\u001b[39m \u001b[38;5;241m1\u001b[39m\n\u001b[0;32m   1794\u001b[0m \u001b[38;5;28mself\u001b[39m\u001b[38;5;241m.\u001b[39mprint_progress()\n",
      "File \u001b[1;32m~\\AppData\\Local\\Programs\\Python\\Python312\\Lib\\site-packages\\sklearn\\utils\\parallel.py:129\u001b[0m, in \u001b[0;36m_FuncWrapper.__call__\u001b[1;34m(self, *args, **kwargs)\u001b[0m\n\u001b[0;32m    127\u001b[0m     config \u001b[38;5;241m=\u001b[39m {}\n\u001b[0;32m    128\u001b[0m \u001b[38;5;28;01mwith\u001b[39;00m config_context(\u001b[38;5;241m*\u001b[39m\u001b[38;5;241m*\u001b[39mconfig):\n\u001b[1;32m--> 129\u001b[0m     \u001b[38;5;28;01mreturn\u001b[39;00m \u001b[38;5;28;43mself\u001b[39;49m\u001b[38;5;241;43m.\u001b[39;49m\u001b[43mfunction\u001b[49m\u001b[43m(\u001b[49m\u001b[38;5;241;43m*\u001b[39;49m\u001b[43margs\u001b[49m\u001b[43m,\u001b[49m\u001b[43m \u001b[49m\u001b[38;5;241;43m*\u001b[39;49m\u001b[38;5;241;43m*\u001b[39;49m\u001b[43mkwargs\u001b[49m\u001b[43m)\u001b[49m\n",
      "File \u001b[1;32m~\\AppData\\Local\\Programs\\Python\\Python312\\Lib\\site-packages\\sklearn\\ensemble\\_forest.py:192\u001b[0m, in \u001b[0;36m_parallel_build_trees\u001b[1;34m(tree, bootstrap, X, y, sample_weight, tree_idx, n_trees, verbose, class_weight, n_samples_bootstrap, missing_values_in_feature_mask)\u001b[0m\n\u001b[0;32m    189\u001b[0m     \u001b[38;5;28;01melif\u001b[39;00m class_weight \u001b[38;5;241m==\u001b[39m \u001b[38;5;124m\"\u001b[39m\u001b[38;5;124mbalanced_subsample\u001b[39m\u001b[38;5;124m\"\u001b[39m:\n\u001b[0;32m    190\u001b[0m         curr_sample_weight \u001b[38;5;241m*\u001b[39m\u001b[38;5;241m=\u001b[39m compute_sample_weight(\u001b[38;5;124m\"\u001b[39m\u001b[38;5;124mbalanced\u001b[39m\u001b[38;5;124m\"\u001b[39m, y, indices\u001b[38;5;241m=\u001b[39mindices)\n\u001b[1;32m--> 192\u001b[0m     \u001b[43mtree\u001b[49m\u001b[38;5;241;43m.\u001b[39;49m\u001b[43m_fit\u001b[49m\u001b[43m(\u001b[49m\n\u001b[0;32m    193\u001b[0m \u001b[43m        \u001b[49m\u001b[43mX\u001b[49m\u001b[43m,\u001b[49m\n\u001b[0;32m    194\u001b[0m \u001b[43m        \u001b[49m\u001b[43my\u001b[49m\u001b[43m,\u001b[49m\n\u001b[0;32m    195\u001b[0m \u001b[43m        \u001b[49m\u001b[43msample_weight\u001b[49m\u001b[38;5;241;43m=\u001b[39;49m\u001b[43mcurr_sample_weight\u001b[49m\u001b[43m,\u001b[49m\n\u001b[0;32m    196\u001b[0m \u001b[43m        \u001b[49m\u001b[43mcheck_input\u001b[49m\u001b[38;5;241;43m=\u001b[39;49m\u001b[38;5;28;43;01mFalse\u001b[39;49;00m\u001b[43m,\u001b[49m\n\u001b[0;32m    197\u001b[0m \u001b[43m        \u001b[49m\u001b[43mmissing_values_in_feature_mask\u001b[49m\u001b[38;5;241;43m=\u001b[39;49m\u001b[43mmissing_values_in_feature_mask\u001b[49m\u001b[43m,\u001b[49m\n\u001b[0;32m    198\u001b[0m \u001b[43m    \u001b[49m\u001b[43m)\u001b[49m\n\u001b[0;32m    199\u001b[0m \u001b[38;5;28;01melse\u001b[39;00m:\n\u001b[0;32m    200\u001b[0m     tree\u001b[38;5;241m.\u001b[39m_fit(\n\u001b[0;32m    201\u001b[0m         X,\n\u001b[0;32m    202\u001b[0m         y,\n\u001b[1;32m   (...)\u001b[0m\n\u001b[0;32m    205\u001b[0m         missing_values_in_feature_mask\u001b[38;5;241m=\u001b[39mmissing_values_in_feature_mask,\n\u001b[0;32m    206\u001b[0m     )\n",
      "File \u001b[1;32m~\\AppData\\Local\\Programs\\Python\\Python312\\Lib\\site-packages\\sklearn\\tree\\_classes.py:472\u001b[0m, in \u001b[0;36mBaseDecisionTree._fit\u001b[1;34m(self, X, y, sample_weight, check_input, missing_values_in_feature_mask)\u001b[0m\n\u001b[0;32m    461\u001b[0m \u001b[38;5;28;01melse\u001b[39;00m:\n\u001b[0;32m    462\u001b[0m     builder \u001b[38;5;241m=\u001b[39m BestFirstTreeBuilder(\n\u001b[0;32m    463\u001b[0m         splitter,\n\u001b[0;32m    464\u001b[0m         min_samples_split,\n\u001b[1;32m   (...)\u001b[0m\n\u001b[0;32m    469\u001b[0m         \u001b[38;5;28mself\u001b[39m\u001b[38;5;241m.\u001b[39mmin_impurity_decrease,\n\u001b[0;32m    470\u001b[0m     )\n\u001b[1;32m--> 472\u001b[0m \u001b[43mbuilder\u001b[49m\u001b[38;5;241;43m.\u001b[39;49m\u001b[43mbuild\u001b[49m\u001b[43m(\u001b[49m\u001b[38;5;28;43mself\u001b[39;49m\u001b[38;5;241;43m.\u001b[39;49m\u001b[43mtree_\u001b[49m\u001b[43m,\u001b[49m\u001b[43m \u001b[49m\u001b[43mX\u001b[49m\u001b[43m,\u001b[49m\u001b[43m \u001b[49m\u001b[43my\u001b[49m\u001b[43m,\u001b[49m\u001b[43m \u001b[49m\u001b[43msample_weight\u001b[49m\u001b[43m,\u001b[49m\u001b[43m \u001b[49m\u001b[43mmissing_values_in_feature_mask\u001b[49m\u001b[43m)\u001b[49m\n\u001b[0;32m    474\u001b[0m \u001b[38;5;28;01mif\u001b[39;00m \u001b[38;5;28mself\u001b[39m\u001b[38;5;241m.\u001b[39mn_outputs_ \u001b[38;5;241m==\u001b[39m \u001b[38;5;241m1\u001b[39m \u001b[38;5;129;01mand\u001b[39;00m is_classifier(\u001b[38;5;28mself\u001b[39m):\n\u001b[0;32m    475\u001b[0m     \u001b[38;5;28mself\u001b[39m\u001b[38;5;241m.\u001b[39mn_classes_ \u001b[38;5;241m=\u001b[39m \u001b[38;5;28mself\u001b[39m\u001b[38;5;241m.\u001b[39mn_classes_[\u001b[38;5;241m0\u001b[39m]\n",
      "File \u001b[1;32msklearn\\\\tree\\\\_tree.pyx:166\u001b[0m, in \u001b[0;36msklearn.tree._tree.DepthFirstTreeBuilder.build\u001b[1;34m()\u001b[0m\n",
      "File \u001b[1;32msklearn\\\\tree\\\\_tree.pyx:285\u001b[0m, in \u001b[0;36msklearn.tree._tree.DepthFirstTreeBuilder.build\u001b[1;34m()\u001b[0m\n",
      "File \u001b[1;32msklearn\\\\tree\\\\_tree.pyx:940\u001b[0m, in \u001b[0;36msklearn.tree._tree.Tree._add_node\u001b[1;34m()\u001b[0m\n",
      "File \u001b[1;32msklearn\\\\tree\\\\_tree.pyx:909\u001b[0m, in \u001b[0;36msklearn.tree._tree.Tree._resize_c\u001b[1;34m()\u001b[0m\n",
      "File \u001b[1;32msklearn\\\\tree\\\\_utils.pyx:35\u001b[0m, in \u001b[0;36msklearn.tree._utils.safe_realloc\u001b[1;34m()\u001b[0m\n",
      "\u001b[1;31mMemoryError\u001b[0m: could not allocate 9990127616 bytes"
     ]
    }
   ],
   "source": [
    "rfc.fit(X_train_valid,Y_train_valid)"
   ]
  },
  {
   "cell_type": "code",
   "execution_count": null,
   "id": "fcf6001e-e2e8-45b6-8701-69a1f25158ec",
   "metadata": {},
   "outputs": [],
   "source": [
    "pip install dask\n"
   ]
  },
  {
   "cell_type": "code",
   "execution_count": null,
   "id": "a1593c17-e621-45c1-9811-e5f65d736cd3",
   "metadata": {},
   "outputs": [],
   "source": []
  }
 ],
 "metadata": {
  "kernelspec": {
   "display_name": "Python 3 (ipykernel)",
   "language": "python",
   "name": "python3"
  },
  "language_info": {
   "codemirror_mode": {
    "name": "ipython",
    "version": 3
   },
   "file_extension": ".py",
   "mimetype": "text/x-python",
   "name": "python",
   "nbconvert_exporter": "python",
   "pygments_lexer": "ipython3",
   "version": "3.12.1"
  }
 },
 "nbformat": 4,
 "nbformat_minor": 5
}
